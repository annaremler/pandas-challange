{
 "cells": [
  {
   "cell_type": "code",
   "execution_count": 2,
   "id": "5e6889b5",
   "metadata": {},
   "outputs": [
    {
     "data": {
      "text/html": [
       "<div>\n",
       "<style scoped>\n",
       "    .dataframe tbody tr th:only-of-type {\n",
       "        vertical-align: middle;\n",
       "    }\n",
       "\n",
       "    .dataframe tbody tr th {\n",
       "        vertical-align: top;\n",
       "    }\n",
       "\n",
       "    .dataframe thead th {\n",
       "        text-align: right;\n",
       "    }\n",
       "</style>\n",
       "<table border=\"1\" class=\"dataframe\">\n",
       "  <thead>\n",
       "    <tr style=\"text-align: right;\">\n",
       "      <th></th>\n",
       "      <th>Student ID</th>\n",
       "      <th>student_name</th>\n",
       "      <th>gender</th>\n",
       "      <th>grade</th>\n",
       "      <th>school_name</th>\n",
       "      <th>reading_score</th>\n",
       "      <th>math_score</th>\n",
       "      <th>School ID</th>\n",
       "      <th>type</th>\n",
       "      <th>size</th>\n",
       "      <th>budget</th>\n",
       "    </tr>\n",
       "  </thead>\n",
       "  <tbody>\n",
       "    <tr>\n",
       "      <th>0</th>\n",
       "      <td>0</td>\n",
       "      <td>Paul Bradley</td>\n",
       "      <td>M</td>\n",
       "      <td>9th</td>\n",
       "      <td>Huang High School</td>\n",
       "      <td>66</td>\n",
       "      <td>79</td>\n",
       "      <td>0</td>\n",
       "      <td>District</td>\n",
       "      <td>2917</td>\n",
       "      <td>1910635</td>\n",
       "    </tr>\n",
       "    <tr>\n",
       "      <th>1</th>\n",
       "      <td>1</td>\n",
       "      <td>Victor Smith</td>\n",
       "      <td>M</td>\n",
       "      <td>12th</td>\n",
       "      <td>Huang High School</td>\n",
       "      <td>94</td>\n",
       "      <td>61</td>\n",
       "      <td>0</td>\n",
       "      <td>District</td>\n",
       "      <td>2917</td>\n",
       "      <td>1910635</td>\n",
       "    </tr>\n",
       "    <tr>\n",
       "      <th>2</th>\n",
       "      <td>2</td>\n",
       "      <td>Kevin Rodriguez</td>\n",
       "      <td>M</td>\n",
       "      <td>12th</td>\n",
       "      <td>Huang High School</td>\n",
       "      <td>90</td>\n",
       "      <td>60</td>\n",
       "      <td>0</td>\n",
       "      <td>District</td>\n",
       "      <td>2917</td>\n",
       "      <td>1910635</td>\n",
       "    </tr>\n",
       "    <tr>\n",
       "      <th>3</th>\n",
       "      <td>3</td>\n",
       "      <td>Dr. Richard Scott</td>\n",
       "      <td>M</td>\n",
       "      <td>12th</td>\n",
       "      <td>Huang High School</td>\n",
       "      <td>67</td>\n",
       "      <td>58</td>\n",
       "      <td>0</td>\n",
       "      <td>District</td>\n",
       "      <td>2917</td>\n",
       "      <td>1910635</td>\n",
       "    </tr>\n",
       "    <tr>\n",
       "      <th>4</th>\n",
       "      <td>4</td>\n",
       "      <td>Bonnie Ray</td>\n",
       "      <td>F</td>\n",
       "      <td>9th</td>\n",
       "      <td>Huang High School</td>\n",
       "      <td>97</td>\n",
       "      <td>84</td>\n",
       "      <td>0</td>\n",
       "      <td>District</td>\n",
       "      <td>2917</td>\n",
       "      <td>1910635</td>\n",
       "    </tr>\n",
       "  </tbody>\n",
       "</table>\n",
       "</div>"
      ],
      "text/plain": [
       "   Student ID       student_name gender grade        school_name  \\\n",
       "0           0       Paul Bradley      M   9th  Huang High School   \n",
       "1           1       Victor Smith      M  12th  Huang High School   \n",
       "2           2    Kevin Rodriguez      M  12th  Huang High School   \n",
       "3           3  Dr. Richard Scott      M  12th  Huang High School   \n",
       "4           4         Bonnie Ray      F   9th  Huang High School   \n",
       "\n",
       "   reading_score  math_score  School ID      type  size   budget  \n",
       "0             66          79          0  District  2917  1910635  \n",
       "1             94          61          0  District  2917  1910635  \n",
       "2             90          60          0  District  2917  1910635  \n",
       "3             67          58          0  District  2917  1910635  \n",
       "4             97          84          0  District  2917  1910635  "
      ]
     },
     "execution_count": 2,
     "metadata": {},
     "output_type": "execute_result"
    }
   ],
   "source": [
    "# Dependencies and Setup\n",
    "import pandas as pd\n",
    "import numpy as np\n",
    "import os\n",
    "\n",
    "# File to Load (Remember to Change These)\n",
    "school_data_to_load = \"Resources/schools_complete.csv\"\n",
    "student_data_to_load = \"Resources/students_complete.csv\"\n",
    "\n",
    "# Read School and Student Data File and store into Pandas DataFrames\n",
    "school_data = pd.read_csv(school_data_to_load)\n",
    "student_data = pd.read_csv(student_data_to_load)\n",
    "\n",
    "# Combine the data into a single dataset.  \n",
    "school_data_complete = pd.merge(student_data, school_data, how=\"left\", on=[\"school_name\", \"school_name\"])\n",
    "school_data_complete.head()"
   ]
  },
  {
   "cell_type": "markdown",
   "id": "5ff0b02b-2a9a-4936-8b61-231ea41d2d6e",
   "metadata": {
    "jp-MarkdownHeadingCollapsed": true,
    "tags": []
   },
   "source": [
    "## District Summary"
   ]
  },
  {
   "cell_type": "code",
   "execution_count": 3,
   "id": "4209fb5f",
   "metadata": {},
   "outputs": [
    {
     "name": "stdout",
     "output_type": "stream",
     "text": [
      "15\n"
     ]
    }
   ],
   "source": [
    "# Calculate the total number of unique schools\n",
    "school_count = len(school_data_complete['school_name'].unique())\n",
    "print(school_count)"
   ]
  },
  {
   "cell_type": "code",
   "execution_count": 4,
   "id": "66466cee-4a63-438e-b34c-b4464c3b4f3a",
   "metadata": {},
   "outputs": [
    {
     "name": "stdout",
     "output_type": "stream",
     "text": [
      "39170\n"
     ]
    }
   ],
   "source": [
    "# Calculate the total number of students\n",
    "student_count = school_data_complete['student_name'].count()\n",
    "print(student_count)"
   ]
  },
  {
   "cell_type": "code",
   "execution_count": 5,
   "id": "70c8d242-d133-47ee-9fd7-b3590c66e00d",
   "metadata": {},
   "outputs": [
    {
     "name": "stdout",
     "output_type": "stream",
     "text": [
      "24649428\n"
     ]
    }
   ],
   "source": [
    "# Calculate the total budget\n",
    "## Why does it have to be unique? wouldn't the total be the most important element.\n",
    "total_budget = sum(school_data_complete['budget'].unique())\n",
    "print(total_budget)"
   ]
  },
  {
   "cell_type": "code",
   "execution_count": 6,
   "id": "ed90abfb-185f-468a-ae75-7540b0e6e57a",
   "metadata": {},
   "outputs": [
    {
     "name": "stdout",
     "output_type": "stream",
     "text": [
      "78.98537145774827\n"
     ]
    }
   ],
   "source": [
    "# Calculate the average (mean) math score\n",
    "average_math_score = school_data_complete['math_score'].mean()\n",
    "print(average_math_score)"
   ]
  },
  {
   "cell_type": "code",
   "execution_count": 7,
   "id": "4fe5b994-fa66-4e20-a581-748a7071baa6",
   "metadata": {},
   "outputs": [
    {
     "name": "stdout",
     "output_type": "stream",
     "text": [
      "81.87784018381414\n"
     ]
    }
   ],
   "source": [
    "# Calculate the average (mean) reading score\n",
    "average_reading_score = school_data_complete['reading_score'].mean()\n",
    "print(average_reading_score)"
   ]
  },
  {
   "cell_type": "code",
   "execution_count": 8,
   "id": "c4714ccc-f377-4338-8b14-3211456ae0f2",
   "metadata": {},
   "outputs": [
    {
     "name": "stdout",
     "output_type": "stream",
     "text": [
      "74.9808526933878\n"
     ]
    }
   ],
   "source": [
    "# Calculate the percentage of students who passed math (math scores greather than or equal to 70)\n",
    "passing_math_count = school_data_complete[(school_data_complete[\"math_score\"] >= 70)].count()[\"student_name\"]\n",
    "passing_math_percentage = passing_math_count / float(student_count) * 100\n",
    "print(passing_math_percentage)"
   ]
  },
  {
   "cell_type": "code",
   "execution_count": 9,
   "id": "b427401d-948b-44c3-8339-fb469f42d415",
   "metadata": {},
   "outputs": [
    {
     "name": "stdout",
     "output_type": "stream",
     "text": [
      "85.80546336482001\n"
     ]
    }
   ],
   "source": [
    "# Calculate the percentage of students who passed reading \n",
    "passing_reading_count = school_data_complete[(school_data_complete[\"reading_score\"] >= 70)].count()[\"student_name\"]\n",
    "passing_reading_percentage = passing_reading_count / float(student_count) * 100\n",
    "print(passing_reading_percentage)"
   ]
  },
  {
   "cell_type": "code",
   "execution_count": 10,
   "id": "b45715f5-4a3b-4551-9652-29a8f2dc8f5e",
   "metadata": {},
   "outputs": [
    {
     "name": "stdout",
     "output_type": "stream",
     "text": [
      "65.17232575950983\n"
     ]
    }
   ],
   "source": [
    "# Calculate the percentage of students that passed math and reading\n",
    "passing_math_reading_count = school_data_complete[\n",
    "    (school_data_complete[\"math_score\"] >= 70) & (school_data_complete[\"reading_score\"] >= 70)\n",
    "].count()[\"student_name\"]\n",
    "overall_passing_rate = passing_math_reading_count /  float(student_count) * 100\n",
    "print(overall_passing_rate)"
   ]
  },
  {
   "cell_type": "code",
   "execution_count": 11,
   "id": "10f53575-cb7b-4133-982e-bdbb1ae6643f",
   "metadata": {},
   "outputs": [
    {
     "data": {
      "text/html": [
       "<div>\n",
       "<style scoped>\n",
       "    .dataframe tbody tr th:only-of-type {\n",
       "        vertical-align: middle;\n",
       "    }\n",
       "\n",
       "    .dataframe tbody tr th {\n",
       "        vertical-align: top;\n",
       "    }\n",
       "\n",
       "    .dataframe thead th {\n",
       "        text-align: right;\n",
       "    }\n",
       "</style>\n",
       "<table border=\"1\" class=\"dataframe\">\n",
       "  <thead>\n",
       "    <tr style=\"text-align: right;\">\n",
       "      <th></th>\n",
       "      <th>Total Schools</th>\n",
       "      <th>Total Students</th>\n",
       "      <th>Total Budget</th>\n",
       "      <th>Average Math Score</th>\n",
       "      <th>Average Reading Score</th>\n",
       "      <th>% Passing Math</th>\n",
       "      <th>% Passing Reading</th>\n",
       "      <th>% Overall Passing Score</th>\n",
       "    </tr>\n",
       "  </thead>\n",
       "  <tbody>\n",
       "    <tr>\n",
       "      <th>0</th>\n",
       "      <td>15</td>\n",
       "      <td>39,170</td>\n",
       "      <td>$24,649,428.00</td>\n",
       "      <td>78.985371</td>\n",
       "      <td>81.87784</td>\n",
       "      <td>74.980853</td>\n",
       "      <td>85.805463</td>\n",
       "      <td>65.172326</td>\n",
       "    </tr>\n",
       "  </tbody>\n",
       "</table>\n",
       "</div>"
      ],
      "text/plain": [
       "   Total Schools Total Students    Total Budget  Average Math Score  \\\n",
       "0             15         39,170  $24,649,428.00           78.985371   \n",
       "\n",
       "   Average Reading Score  % Passing Math  % Passing Reading  \\\n",
       "0               81.87784       74.980853          85.805463   \n",
       "\n",
       "   % Overall Passing Score  \n",
       "0                65.172326  "
      ]
     },
     "execution_count": 11,
     "metadata": {},
     "output_type": "execute_result"
    }
   ],
   "source": [
    "# Create a high-level snapshot of the district's key metrics in a DataFrame\n",
    "## ???Why did I have to [] for '% Overall Passing Score'???\n",
    "district_summary = {\n",
    "    'Total Schools':school_count,\n",
    "    'Total Students':'{:,}'.format(student_count),\n",
    "    'Total Budget':'${:,.2f}'.format(total_budget),\n",
    "    'Average Math Score':average_math_score,\n",
    "    'Average Reading Score':average_reading_score,\n",
    "    '% Passing Math':passing_math_percentage,\n",
    "    '% Passing Reading':passing_reading_percentage,\n",
    "    '% Overall Passing Score':[overall_passing_rate],\n",
    "}\n",
    "\n",
    "district_summary_df = pd.DataFrame(district_summary)\n",
    "district_summary_df"
   ]
  },
  {
   "cell_type": "markdown",
   "id": "cccb33c5-0d16-4305-ae10-00bf93926f80",
   "metadata": {
    "jp-MarkdownHeadingCollapsed": true,
    "tags": []
   },
   "source": [
    "## School Summary"
   ]
  },
  {
   "cell_type": "code",
   "execution_count": 41,
   "id": "2b6fe052-76b9-452a-b36f-578ae3fa2bd0",
   "metadata": {},
   "outputs": [],
   "source": [
    "# Use the code provided to select the school type\n",
    "school_types = school_data_complete.set_index([\"school_name\"])[\"type\"]\n",
    "\n",
    "#Group by school\n",
    "by_school = school_data_complete.set_index('school_name').groupby(['school_name'])"
   ]
  },
  {
   "cell_type": "code",
   "execution_count": 13,
   "id": "187030ad-a2f3-4792-9c7a-f6bac85dc484",
   "metadata": {},
   "outputs": [
    {
     "name": "stdout",
     "output_type": "stream",
     "text": [
      "school_name\n",
      "Bailey High School       4976\n",
      "Cabrera High School      1858\n",
      "Figueroa High School     2949\n",
      "Ford High School         2739\n",
      "Griffin High School      1468\n",
      "Hernandez High School    4635\n",
      "Holden High School        427\n",
      "Huang High School        2917\n",
      "Johnson High School      4761\n",
      "Pena High School          962\n",
      "Rodriguez High School    3999\n",
      "Shelton High School      1761\n",
      "Thomas High School       1635\n",
      "Wilson High School       2283\n",
      "Wright High School       1800\n",
      "Name: School ID, dtype: int64\n"
     ]
    }
   ],
   "source": [
    "# Calculate the total student count\n",
    "per_school_counts = by_school['School ID'].count()\n",
    "print(per_school_counts)"
   ]
  },
  {
   "cell_type": "code",
   "execution_count": 14,
   "id": "86ed7e11-47c6-4d0f-a059-3deff8dbbf06",
   "metadata": {},
   "outputs": [],
   "source": [
    "# Calculate the total school budget and per capita spending\n",
    "per_school_budget = school_data_complete.groupby([\"school_name\"]).mean()[\"budget\"]\n",
    "per_school_capita = per_school_budget / per_school_counts"
   ]
  },
  {
   "cell_type": "code",
   "execution_count": 15,
   "id": "e9c15c9f-e4f7-4be7-9446-8a3d460fac60",
   "metadata": {},
   "outputs": [],
   "source": [
    "# Calculate the average test scores\n",
    "per_school_math = by_school['math_score'].mean()\n",
    "per_school_reading = by_school['reading_score'].mean()"
   ]
  },
  {
   "cell_type": "code",
   "execution_count": 34,
   "id": "b8c8896e-a720-492d-b397-f123bb2a19dd",
   "metadata": {},
   "outputs": [],
   "source": [
    "# Calculate the number of schools with math scores of 70 or higher\n",
    "school_passing_math = school_data_complete[school_data_complete['math_score']>=70]\n",
    "#school_passing_math_percentage = school_passing_math / per_school_capita * 100"
   ]
  },
  {
   "cell_type": "code",
   "execution_count": 35,
   "id": "13fd758d-50fd-40f0-895f-b3038f9a4802",
   "metadata": {},
   "outputs": [],
   "source": [
    "# Calculate the number of schools with reading scores of 70 or higher\n",
    "school_passing_reading = school_data_complete[school_data_complete['reading_score']>=70]\n",
    "#school_passing_reading_percentage = school_passing_reading / per_school_capita * 100"
   ]
  },
  {
   "cell_type": "code",
   "execution_count": 37,
   "id": "65f57877-b0c1-45ca-b6ec-7ca5d410d43f",
   "metadata": {},
   "outputs": [],
   "source": [
    "# Use the provided code to calculate the schools that passed both math and reading with scores of 70 or higher\n",
    "passing_math_and_reading = school_data_complete[\n",
    "    (school_data_complete[\"reading_score\"] >= 70) & (school_data_complete[\"math_score\"] >= 70)\n",
    "]\n",
    "#overall_passing_percentage = passing_math_and_reading / per_school_capita * 100"
   ]
  },
  {
   "cell_type": "code",
   "execution_count": 29,
   "id": "e4b69e47-3977-4c77-90c9-f8d88859eef4",
   "metadata": {},
   "outputs": [],
   "source": [
    "# Use the provided code to calculate the passing rates\n",
    "per_school_passing_math = school_passing_math.groupby([\"school_name\"]).count()[\"student_name\"] / per_school_counts * 100\n",
    "per_school_passing_reading = school_passing_reading.groupby([\"school_name\"]).count()[\"student_name\"] / per_school_counts * 100\n",
    "overall_passing_rate = passing_math_and_reading.groupby([\"school_name\"]).count()[\"student_name\"] / per_school_counts * 100"
   ]
  },
  {
   "cell_type": "code",
   "execution_count": 40,
   "id": "f0254fc1-7b19-43e0-979d-3974655dc9c5",
   "metadata": {},
   "outputs": [
    {
     "data": {
      "text/plain": [
       "{'School Type': school_name\n",
       " Huang High School     District\n",
       " Huang High School     District\n",
       " Huang High School     District\n",
       " Huang High School     District\n",
       " Huang High School     District\n",
       "                         ...   \n",
       " Thomas High School     Charter\n",
       " Thomas High School     Charter\n",
       " Thomas High School     Charter\n",
       " Thomas High School     Charter\n",
       " Thomas High School     Charter\n",
       " Name: type, Length: 39170, dtype: object,\n",
       " 'Total Students': school_name\n",
       " Bailey High School       4976\n",
       " Cabrera High School      1858\n",
       " Figueroa High School     2949\n",
       " Ford High School         2739\n",
       " Griffin High School      1468\n",
       " Hernandez High School    4635\n",
       " Holden High School        427\n",
       " Huang High School        2917\n",
       " Johnson High School      4761\n",
       " Pena High School          962\n",
       " Rodriguez High School    3999\n",
       " Shelton High School      1761\n",
       " Thomas High School       1635\n",
       " Wilson High School       2283\n",
       " Wright High School       1800\n",
       " Name: School ID, dtype: int64,\n",
       " 'Total School Budget': school_name\n",
       " Bailey High School       $3,124,928.00\n",
       " Cabrera High School      $1,081,356.00\n",
       " Figueroa High School     $1,884,411.00\n",
       " Ford High School         $1,763,916.00\n",
       " Griffin High School        $917,500.00\n",
       " Hernandez High School    $3,022,020.00\n",
       " Holden High School         $248,087.00\n",
       " Huang High School        $1,910,635.00\n",
       " Johnson High School      $3,094,650.00\n",
       " Pena High School           $585,858.00\n",
       " Rodriguez High School    $2,547,363.00\n",
       " Shelton High School      $1,056,600.00\n",
       " Thomas High School       $1,043,130.00\n",
       " Wilson High School       $1,319,574.00\n",
       " Wright High School       $1,049,400.00\n",
       " Name: budget, dtype: object,\n",
       " 'Per Student Budget': school_name\n",
       " Bailey High School       $4,976.00\n",
       " Cabrera High School      $1,858.00\n",
       " Figueroa High School     $2,949.00\n",
       " Ford High School         $2,739.00\n",
       " Griffin High School      $1,468.00\n",
       " Hernandez High School    $4,635.00\n",
       " Holden High School         $427.00\n",
       " Huang High School        $2,917.00\n",
       " Johnson High School      $4,761.00\n",
       " Pena High School           $962.00\n",
       " Rodriguez High School    $3,999.00\n",
       " Shelton High School      $1,761.00\n",
       " Thomas High School       $1,635.00\n",
       " Wilson High School       $2,283.00\n",
       " Wright High School       $1,800.00\n",
       " dtype: object,\n",
       " 'Average Math Score': school_name\n",
       " Bailey High School       77.048432\n",
       " Cabrera High School      83.061895\n",
       " Figueroa High School     76.711767\n",
       " Ford High School         77.102592\n",
       " Griffin High School      83.351499\n",
       " Hernandez High School    77.289752\n",
       " Holden High School       83.803279\n",
       " Huang High School        76.629414\n",
       " Johnson High School      77.072464\n",
       " Pena High School         83.839917\n",
       " Rodriguez High School    76.842711\n",
       " Shelton High School      83.359455\n",
       " Thomas High School       83.418349\n",
       " Wilson High School       83.274201\n",
       " Wright High School       83.682222\n",
       " Name: math_score, dtype: float64,\n",
       " 'Average Reading Score': school_name\n",
       " Bailey High School       81.033963\n",
       " Cabrera High School      83.975780\n",
       " Figueroa High School     81.158020\n",
       " Ford High School         80.746258\n",
       " Griffin High School      83.816757\n",
       " Hernandez High School    80.934412\n",
       " Holden High School       83.814988\n",
       " Huang High School        81.182722\n",
       " Johnson High School      80.966394\n",
       " Pena High School         84.044699\n",
       " Rodriguez High School    80.744686\n",
       " Shelton High School      83.725724\n",
       " Thomas High School       83.848930\n",
       " Wilson High School       83.989488\n",
       " Wright High School       83.955000\n",
       " Name: reading_score, dtype: float64,\n",
       " '% Passing Math': school_name\n",
       " Bailey High School       66.680064\n",
       " Cabrera High School      94.133477\n",
       " Figueroa High School     65.988471\n",
       " Ford High School         68.309602\n",
       " Griffin High School      93.392371\n",
       " Hernandez High School    66.752967\n",
       " Holden High School       92.505855\n",
       " Huang High School        65.683922\n",
       " Johnson High School      66.057551\n",
       " Pena High School         94.594595\n",
       " Rodriguez High School    66.366592\n",
       " Shelton High School      93.867121\n",
       " Thomas High School       93.272171\n",
       " Wilson High School       93.867718\n",
       " Wright High School       93.333333\n",
       " dtype: float64,\n",
       " '% Passing Reading': school_name\n",
       " Bailey High School       81.933280\n",
       " Cabrera High School      97.039828\n",
       " Figueroa High School     80.739234\n",
       " Ford High School         79.299014\n",
       " Griffin High School      97.138965\n",
       " Hernandez High School    80.862999\n",
       " Holden High School       96.252927\n",
       " Huang High School        81.316421\n",
       " Johnson High School      81.222432\n",
       " Pena High School         95.945946\n",
       " Rodriguez High School    80.220055\n",
       " Shelton High School      95.854628\n",
       " Thomas High School       97.308869\n",
       " Wilson High School       96.539641\n",
       " Wright High School       96.611111\n",
       " dtype: float64,\n",
       " '% Overall Passing Score': [school_name\n",
       "  Bailey High School       54.642283\n",
       "  Cabrera High School      91.334769\n",
       "  Figueroa High School     53.204476\n",
       "  Ford High School         54.289887\n",
       "  Griffin High School      90.599455\n",
       "  Hernandez High School    53.527508\n",
       "  Holden High School       89.227166\n",
       "  Huang High School        53.513884\n",
       "  Johnson High School      53.539172\n",
       "  Pena High School         90.540541\n",
       "  Rodriguez High School    52.988247\n",
       "  Shelton High School      89.892107\n",
       "  Thomas High School       90.948012\n",
       "  Wilson High School       90.582567\n",
       "  Wright High School       90.333333\n",
       "  dtype: float64]}"
      ]
     },
     "execution_count": 40,
     "metadata": {},
     "output_type": "execute_result"
    }
   ],
   "source": [
    "# Create a DataFrame called `per_school_summary` with columns for the calculations above.\n",
    "per_school_summary = {\n",
    "    'School Type':school_types,\n",
    "    'Total Students':per_school_counts,\n",
    "    'Total School Budget':(per_school_budget),\n",
    "    'Per Student Budget':(per_school_budget/per_school_capita),\n",
    "    'Average Math Score':per_school_math,\n",
    "    'Average Reading Score':per_school_reading,\n",
    "    '% Passing Math':per_school_passing_math,\n",
    "    '% Passing Reading':per_school_passing_reading,\n",
    "    '% Overall Passing Score':[overall_passing_rate],\n",
    "}\n",
    "\n",
    "# Formatting\n",
    "per_school_summary[\"Total School Budget\"] = per_school_summary[\"Total School Budget\"].map(\"${:,.2f}\".format)\n",
    "per_school_summary[\"Per Student Budget\"] = per_school_summary[\"Per Student Budget\"].map(\"${:,.2f}\".format)\n",
    "\n",
    "# Display the DataFrame\n",
    "## Dataframe not right.\n",
    "per_school_summary"
   ]
  },
  {
   "cell_type": "markdown",
   "id": "22881cce-83e1-4a35-b8dd-2f3a266c9622",
   "metadata": {
    "tags": []
   },
   "source": [
    "## Highest-Performing Schools (by % Overall Passing)"
   ]
  },
  {
   "cell_type": "code",
   "execution_count": 43,
   "id": "5aebb030-71a2-424b-a44c-93469b09c78a",
   "metadata": {},
   "outputs": [
    {
     "ename": "AttributeError",
     "evalue": "'dict' object has no attribute 'sort_values'",
     "output_type": "error",
     "traceback": [
      "\u001b[0;31m---------------------------------------------------------------------------\u001b[0m",
      "\u001b[0;31mAttributeError\u001b[0m                            Traceback (most recent call last)",
      "\u001b[0;32m/var/folders/t8/4x2269fn16df8mz7mhhdz8sc0000gn/T/ipykernel_25420/522521162.py\u001b[0m in \u001b[0;36m<module>\u001b[0;34m\u001b[0m\n\u001b[1;32m      1\u001b[0m \u001b[0;31m# Sort the schools by `% Overall Passing` in descending order and display the top 5 rows.\u001b[0m\u001b[0;34m\u001b[0m\u001b[0;34m\u001b[0m\u001b[0m\n\u001b[0;32m----> 2\u001b[0;31m \u001b[0mtop_performing_schools\u001b[0m \u001b[0;34m=\u001b[0m \u001b[0mper_school_summary\u001b[0m\u001b[0;34m.\u001b[0m\u001b[0msort_values\u001b[0m\u001b[0;34m(\u001b[0m\u001b[0mby\u001b[0m\u001b[0;34m=\u001b[0m\u001b[0;34m'% Overall Passing Rate'\u001b[0m\u001b[0;34m,\u001b[0m\u001b[0mascending\u001b[0m\u001b[0;34m=\u001b[0m\u001b[0;32mFalse\u001b[0m\u001b[0;34m)\u001b[0m\u001b[0;34m\u001b[0m\u001b[0;34m\u001b[0m\u001b[0m\n\u001b[0m\u001b[1;32m      3\u001b[0m \u001b[0mtop_performing_schools\u001b[0m\u001b[0;34m.\u001b[0m\u001b[0mhead\u001b[0m\u001b[0;34m(\u001b[0m\u001b[0;34m)\u001b[0m\u001b[0;34m\u001b[0m\u001b[0;34m\u001b[0m\u001b[0m\n",
      "\u001b[0;31mAttributeError\u001b[0m: 'dict' object has no attribute 'sort_values'"
     ]
    }
   ],
   "source": [
    "# Sort the schools by `% Overall Passing` in descending order and display the top 5 rows.\n",
    "highest_performing_schools = per_school_summary.sort_values(by='% Overall Passing Rate',ascending=False)\n",
    "highest_performing_schools.head()"
   ]
  },
  {
   "cell_type": "markdown",
   "id": "103af396-ce9b-4564-9be1-d45556b1bc09",
   "metadata": {
    "tags": []
   },
   "source": [
    "## Math Scores by Grade"
   ]
  },
  {
   "cell_type": "markdown",
   "id": "2b995d1a-9b90-42dc-a0a6-416f9f744ec7",
   "metadata": {
    "tags": []
   },
   "source": [
    "## Reading Score by Grade"
   ]
  },
  {
   "cell_type": "markdown",
   "id": "97b6f3b3-6307-4704-93c3-627df6ca9c4d",
   "metadata": {
    "tags": []
   },
   "source": [
    "## Scores by School Spending"
   ]
  },
  {
   "cell_type": "markdown",
   "id": "f3a53c44-8037-4455-8e03-0d143099f7ee",
   "metadata": {
    "tags": []
   },
   "source": [
    "## Scores by School Size"
   ]
  },
  {
   "cell_type": "markdown",
   "id": "8a84eaeb-95d5-4409-9984-1f667638dc85",
   "metadata": {},
   "source": [
    "## Scores by School Type"
   ]
  }
 ],
 "metadata": {
  "kernelspec": {
   "display_name": "Python 3 (ipykernel)",
   "language": "python",
   "name": "python3"
  },
  "language_info": {
   "codemirror_mode": {
    "name": "ipython",
    "version": 3
   },
   "file_extension": ".py",
   "mimetype": "text/x-python",
   "name": "python",
   "nbconvert_exporter": "python",
   "pygments_lexer": "ipython3",
   "version": "3.9.13"
  }
 },
 "nbformat": 4,
 "nbformat_minor": 5
}
